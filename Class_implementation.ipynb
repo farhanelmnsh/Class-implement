{
  "nbformat": 4,
  "nbformat_minor": 0,
  "metadata": {
    "colab": {
      "name": "Class_implementation.ipynb",
      "provenance": [],
      "authorship_tag": "ABX9TyP5e0E+3Gav2dS4b/ti2yuq",
      "include_colab_link": true
    },
    "kernelspec": {
      "name": "python3",
      "display_name": "Python 3"
    }
  },
  "cells": [
    {
      "cell_type": "markdown",
      "metadata": {
        "id": "view-in-github",
        "colab_type": "text"
      },
      "source": [
        "<a href=\"https://colab.research.google.com/github/farhanelmnsh/Class-implement/blob/main/Class_implementation.ipynb\" target=\"_parent\"><img src=\"https://colab.research.google.com/assets/colab-badge.svg\" alt=\"Open In Colab\"/></a>"
      ]
    },
    {
      "cell_type": "code",
      "metadata": {
        "id": "ZZOe9hEeANMn",
        "outputId": "ae8fcd6f-d93e-495e-e997-b3c6699c9e81",
        "colab": {
          "base_uri": "https://localhost:8080/",
          "height": 130
        }
      },
      "source": [
        "import numpy as np\n",
        "from google.colab.patches \n",
        "\n",
        "class Student:\n",
        "  def __init__(self, name, phone):\n",
        "    self.name: name\n",
        "    self.email: name + '@company.com'\n",
        "    self.phone: phone\n",
        "\n",
        "stu_1 = Student('han', 086710731213)\n",
        "stu_2 = Student('jon', 085812345678)\n",
        "\n",
        "print(stu_1.name)\n",
        "print(stu_2.name)\n",
        "\n",
        "class User:\n",
        "  def __init__(self, userID, password, loginStatus):\n",
        "    self.userID: name\n",
        "    self.password: password\n",
        "    self.loginStatus: phone\n",
        "\n",
        "class Operator:\n",
        "  def __init__(self, operatorID, email):\n",
        "    self.operatorID: ID\n",
        "    self.email: name + '@company.com'\n",
        "\n",
        "class Lecturer:\n",
        "  def __init__(self, name, phone):\n",
        "    self.name: name\n",
        "    self.email: name + '@company.com'\n",
        "    self.phone: phone\n",
        "\n",
        "class Cart:\n",
        "  def __init__(self, productID, date):\n",
        "    self.productID: name\n",
        "    self.date: date\n",
        "\n",
        "class Order:\n",
        "  def __init__(self, orderID, lectureID, lecturerName):\n",
        "    self.lecturerName: name\n",
        "    self.lecturerID: ID\n",
        "    self.orderID: ID\n",
        "\n",
        "class Lecture:\n",
        "  def __init__(self, lectureName, lectureID, description, price):\n",
        "    self.lectureName: name\n",
        "    self.lectureID: ID\n",
        "    self.description: descript\n",
        "    self.price: price\n"
      ],
      "execution_count": null,
      "outputs": [
        {
          "output_type": "error",
          "ename": "SyntaxError",
          "evalue": "ignored",
          "traceback": [
            "\u001b[0;36m  File \u001b[0;32m\"<ipython-input-11-b9e14e1fe9ab>\"\u001b[0;36m, line \u001b[0;32m11\u001b[0m\n\u001b[0;31m    stu_1 = Student('han', 086710731213)\u001b[0m\n\u001b[0m                                      ^\u001b[0m\n\u001b[0;31mSyntaxError\u001b[0m\u001b[0;31m:\u001b[0m invalid token\n"
          ]
        }
      ]
    }
  ]
}